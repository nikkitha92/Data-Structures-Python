{
 "cells": [
  {
   "cell_type": "markdown",
   "metadata": {},
   "source": [
    "Given an integer array nums, return all the triplets [nums[i], nums[j], nums[k]] such that i != j, i != k, and j != k, and nums[i] + nums[j] + nums[k] == 0.\n",
    "\n",
    "Notice that the solution set must not contain duplicate triplets.\n",
    "\n",
    "Example 1:\n",
    "\n",
    "Input: nums = [-1,0,1,2,-1,-4]\n",
    "Output: [[-1,-1,2],[-1,0,1]]\n",
    "\n",
    "\n",
    "Example 2:\n",
    "\n",
    "Input: nums = []\n",
    "Output: []\n",
    "\n",
    "Example 3:\n",
    "\n",
    "Input: nums = [0]\n",
    "Output: []\n"
   ]
  },
  {
   "cell_type": "markdown",
   "metadata": {},
   "source": [
    "solution reference: https://www.youtube.com/watch?v=jzZsG8n2R9A"
   ]
  },
  {
   "cell_type": "code",
   "execution_count": 36,
   "metadata": {},
   "outputs": [],
   "source": [
    "def triplets(nums):\n",
    "    result = []\n",
    "    #sort the array\n",
    "    nums.sort()\n",
    "    for index,i in enumerate(nums):\n",
    "        #continue the loop if the consecutive elements are same:\n",
    "        if index>0 and i == nums[index-1]:\n",
    "            continue\n",
    "        else:\n",
    "           #index positions of left and right pointer\n",
    "            l,r = index+1, len(nums)-1\n",
    "            while l<r:\n",
    "                threesum = i + nums[l] + nums[r]\n",
    "                if threesum>0:\n",
    "                    r-=1\n",
    "                elif threesum <0:\n",
    "                    l+=1\n",
    "                else:\n",
    "                    result.append([i,nums[l],nums[r]])\n",
    "                    #when to stop l:\n",
    "                    l+=1\n",
    "                    while nums[l] == nums[l+1]  and l<r:\n",
    "                        l+=1\n",
    "    return result\n",
    "            \n",
    "\n",
    "        \n",
    "\n",
    "    "
   ]
  },
  {
   "cell_type": "code",
   "execution_count": 37,
   "metadata": {},
   "outputs": [
    {
     "data": {
      "text/plain": [
       "[[-1, -1, 2], [-1, 0, 1]]"
      ]
     },
     "execution_count": 37,
     "metadata": {},
     "output_type": "execute_result"
    }
   ],
   "source": [
    "triplets([-1,0,1,2,-1,-4])"
   ]
  },
  {
   "cell_type": "code",
   "execution_count": null,
   "metadata": {},
   "outputs": [],
   "source": []
  }
 ],
 "metadata": {
  "kernelspec": {
   "display_name": "Python 3",
   "language": "python",
   "name": "python3"
  },
  "language_info": {
   "codemirror_mode": {
    "name": "ipython",
    "version": 3
   },
   "file_extension": ".py",
   "mimetype": "text/x-python",
   "name": "python",
   "nbconvert_exporter": "python",
   "pygments_lexer": "ipython3",
   "version": "3.8.3"
  }
 },
 "nbformat": 4,
 "nbformat_minor": 4
}
